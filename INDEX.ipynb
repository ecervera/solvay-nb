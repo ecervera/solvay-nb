{
 "cells": [
  {
   "cell_type": "markdown",
   "metadata": {},
   "source": [
    "[<img src=\"https://upload.wikimedia.org/wikipedia/commons/thumb/8/81/Ernest_Solvay.jpg/164px-Ernest_Solvay.jpg\" align=\"right\">](https://en.wikipedia.org/wiki/Ernest_Solvay)\n",
    "# UJI Solvay Notebooks\n",
    "\n",
    "UJI Solvay Notebooks allows you to execute [jupyter notebooks](https://jupyter.org/index.html) in the central node of [UJI's high-performance computation cluster](http://www.uji.es/serveis/si/serveis/calcul/recal/).\n",
    "The central node is a 2U server biprocessador (Dell R710 hexacore 2 Intel Xeon E5649 2.53 GHz, 48 GB of RAM and 6x600 GB SAS HDD), with [CentOS 6 64bit operating system](https://www.centos.org/).\n",
    "\n",
    "Currently, kernels for the \n",
    "[Octave](https://www.gnu.org/software/octave/),\n",
    "[Python](https://www.python.org/),\n",
    "[R](https://www.r-project.org/), and\n",
    "[Scilab](http://www.scilab.org/)\n",
    "languages are supported.\n",
    "\n",
    "## Let's start!\n",
    "\n",
    "Click on any of the links below for a demo notebook in your preferred programming language:\n",
    "\n",
    "* [Octave](octave.ipynb)\n",
    "* [Python](python.ipynb)\n",
    "* [R](r.ipynb)\n",
    "* [Scilab](scilab.ipynb)"
   ]
  }
 ],
 "metadata": {
  "kernelspec": {
   "display_name": "Python 3",
   "language": "python",
   "name": "python3"
  },
  "language_info": {
   "codemirror_mode": {
    "name": "ipython",
    "version": 3
   },
   "file_extension": ".py",
   "mimetype": "text/x-python",
   "name": "python",
   "nbconvert_exporter": "python",
   "pygments_lexer": "ipython3",
   "version": "3.6.0"
  }
 },
 "nbformat": 4,
 "nbformat_minor": 2
}
