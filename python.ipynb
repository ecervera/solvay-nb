{
 "cells": [
  {
   "cell_type": "markdown",
   "metadata": {},
   "source": [
    "<a title=\"By www.python.org (www.python.org) [GPL (http://www.gnu.org/licenses/gpl.html)], via Wikimedia Commons\" href=\"https://commons.wikimedia.org/wiki/File%3APython-logo-notext.svg\"><img width=\"128\" align=\"right\" alt=\"Python-logo-notext\" src=\"https://upload.wikimedia.org/wikipedia/commons/thumb/c/c3/Python-logo-notext.svg/64px-Python-logo-notext.svg.png\"/></a>\n",
    "# Sample Python Notebook\n",
    "\n",
    "This is a demo notebook for the Python language.\n",
    "\n",
    "For learning about Python, please check [this tutorial](https://docs.python.org/3/tutorial/).\n",
    "\n",
    "For learning about jupyter notebooks, please check [this other tutorial](http://nbviewer.jupyter.org/github/jupyter/notebook/blob/master/docs/source/examples/Notebook/Notebook%20Basics.ipynb)."
   ]
  },
  {
   "cell_type": "code",
   "execution_count": null,
   "metadata": {},
   "outputs": [],
   "source": [
    "2+2"
   ]
  },
  {
   "cell_type": "code",
   "execution_count": null,
   "metadata": {},
   "outputs": [],
   "source": [
    "import matplotlib.pyplot as plt, numpy as np\n",
    "%matplotlib inline\n",
    "\n",
    "x = np.arange(-np.pi, np.pi, 0.01)\n",
    "plt.plot(x, np.sin(x));"
   ]
  },
  {
   "cell_type": "markdown",
   "metadata": {},
   "source": [
    "## Try it!\n",
    "\n",
    "Type and execute Python commands in the cell below."
   ]
  },
  {
   "cell_type": "code",
   "execution_count": null,
   "metadata": {
    "collapsed": true
   },
   "outputs": [],
   "source": []
  }
 ],
 "metadata": {
  "kernelspec": {
   "display_name": "Python 3",
   "language": "python",
   "name": "python3"
  },
  "language_info": {
   "codemirror_mode": {
    "name": "ipython",
    "version": 3
   },
   "file_extension": ".py",
   "mimetype": "text/x-python",
   "name": "python",
   "nbconvert_exporter": "python",
   "pygments_lexer": "ipython3",
   "version": "3.6.0"
  }
 },
 "nbformat": 4,
 "nbformat_minor": 2
}
